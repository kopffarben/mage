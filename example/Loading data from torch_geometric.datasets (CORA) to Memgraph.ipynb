{
 "cells": [
  {
   "cell_type": "markdown",
   "id": "31e7ddd7",
   "metadata": {},
   "source": [
    "# Loading data from torch_geometric.datasets (CORA) to Memgraph"
   ]
  },
  {
   "cell_type": "code",
   "execution_count": 1,
   "id": "7c897e6e",
   "metadata": {},
   "outputs": [
    {
     "name": "stderr",
     "output_type": "stream",
     "text": [
      "/home/mateo/.local/lib/python3.8/site-packages/tqdm/auto.py:22: TqdmWarning: IProgress not found. Please update jupyter and ipywidgets. See https://ipywidgets.readthedocs.io/en/stable/user_install.html\n",
      "  from .autonotebook import tqdm as notebook_tqdm\n"
     ]
    },
    {
     "name": "stdout",
     "output_type": "stream",
     "text": [
      "\n",
      "Dataset: Cora():\n",
      "======================\n",
      "Number of graphs: 1\n",
      "Number of features: 1433\n",
      "Number of classes: 7\n",
      "\n",
      "Data(x=[2708, 1433], edge_index=[2, 10556], y=[2708], train_mask=[2708], val_mask=[2708], test_mask=[2708])\n",
      "===========================================================================================================\n",
      "Number of nodes: 2708\n",
      "Number of edges: 10556\n",
      "Average node degree: 3.90\n",
      "Number of training nodes: 140\n",
      "Training node label rate: 0.05\n",
      "Has isolated nodes: False\n",
      "Has self-loops: False\n",
      "Is undirected: True\n"
     ]
    }
   ],
   "source": [
    "from torch_geometric.datasets import Planetoid\n",
    "from torch_geometric.transforms import NormalizeFeatures\n",
    "from tqdm import tqdm\n",
    "\n",
    "dataset = Planetoid(root='data/Planetoid', name='Cora', transform=NormalizeFeatures())\n",
    "\n",
    "print()\n",
    "print(f'Dataset: {dataset}:')\n",
    "print('======================')\n",
    "print(f'Number of graphs: {len(dataset)}')\n",
    "print(f'Number of features: {dataset.num_features}')\n",
    "print(f'Number of classes: {dataset.num_classes}')\n",
    "\n",
    "data = dataset[0]  # Get the first graph object.\n",
    "\n",
    "print()\n",
    "print(data)\n",
    "print('===========================================================================================================')\n",
    "\n",
    "# Gather some statistics about the graph.\n",
    "print(f'Number of nodes: {data.num_nodes}')\n",
    "print(f'Number of edges: {data.num_edges}')\n",
    "print(f'Average node degree: {data.num_edges / data.num_nodes:.2f}')\n",
    "print(f'Number of training nodes: {data.train_mask.sum()}')\n",
    "print(f'Training node label rate: {int(data.train_mask.sum()) / data.num_nodes:.2f}')\n",
    "print(f'Has isolated nodes: {data.has_isolated_nodes()}')\n",
    "print(f'Has self-loops: {data.has_self_loops()}')\n",
    "print(f'Is undirected: {data.is_undirected()}')"
   ]
  },
  {
   "cell_type": "code",
   "execution_count": 2,
   "id": "51fada04",
   "metadata": {},
   "outputs": [],
   "source": [
    "from gqlalchemy import Memgraph\n",
    "memgraph = Memgraph(\"127.0.0.1\", 7687)\n",
    "memgraph.drop_database()"
   ]
  },
  {
   "cell_type": "code",
   "execution_count": 64,
   "id": "ba9b1cff",
   "metadata": {},
   "outputs": [
    {
     "name": "stdout",
     "output_type": "stream",
     "text": [
      "{'number_of_nodes': 271}\n"
     ]
    }
   ],
   "source": [
    "results = memgraph.execute_and_fetch(\n",
    "    \"\"\"\n",
    "    MATCH (n) RETURN count(n) AS number_of_nodes ;\n",
    "    \"\"\"\n",
    ")\n",
    "print(next(results))"
   ]
  },
  {
   "cell_type": "code",
   "execution_count": 4,
   "id": "88fd5876",
   "metadata": {},
   "outputs": [
    {
     "name": "stderr",
     "output_type": "stream",
     "text": [
      "100%|███████████████████| 2708/2708 [00:44<00:00, 60.71it/s]\n"
     ]
    }
   ],
   "source": [
    "for i in tqdm(range(data.num_nodes)):\n",
    "    memgraph.execute(f\"CREATE( :PAPER {{ id: {i}, features: {data.x[i].numpy().tolist()}, class: {data.y[i].numpy().tolist()} }} );\")\n",
    "    "
   ]
  },
  {
   "cell_type": "code",
   "execution_count": 5,
   "id": "2a0e6a2e",
   "metadata": {},
   "outputs": [],
   "source": [
    "memgraph.execute(\"CREATE INDEX ON :PAPER(id);\") #don't load edges without this"
   ]
  },
  {
   "cell_type": "code",
   "execution_count": 6,
   "id": "a3c4941f",
   "metadata": {},
   "outputs": [
    {
     "name": "stderr",
     "output_type": "stream",
     "text": [
      "100%|████████████████| 10556/10556 [00:15<00:00, 700.99it/s]\n"
     ]
    }
   ],
   "source": [
    "for i in tqdm(range(data.num_edges)):\n",
    "    edge = data.edge_index[:,i].numpy().tolist()\n",
    "    memgraph.execute(f\"MATCH (a:PAPER {{id:{edge[0]}}} ), (b:PAPER {{id:{edge[1]}}}) CREATE (a)-[r:CITES]->(b);\")"
   ]
  },
  {
   "cell_type": "markdown",
   "id": "8e50e1e6",
   "metadata": {},
   "source": [
    "## Load 90% of dataset"
   ]
  },
  {
   "cell_type": "code",
   "execution_count": 51,
   "id": "d7ef0ebf",
   "metadata": {},
   "outputs": [
    {
     "name": "stdout",
     "output_type": "stream",
     "text": [
      "<class 'int'>\n"
     ]
    }
   ],
   "source": [
    "import numpy as np\n",
    "results = memgraph.execute_and_fetch(\n",
    "    \"\"\"\n",
    "    MATCH (n) RETURN n.id AS ids ;\n",
    "    \"\"\"\n",
    ")\n",
    "\n",
    "#for i in list(results):\n",
    "#    print(i)\n",
    "\n",
    "\n",
    "total = sum(1 for _ in results)\n",
    "mask = np.zeros((total))\n",
    "\n",
    "i = 0\n",
    "while i < total * 0.1:\n",
    "    mask[i] = 1\n",
    "    i+=1\n",
    "\n",
    "mask = np.random.permutation(mask)\n",
    "\n"
   ]
  },
  {
   "cell_type": "code",
   "execution_count": 54,
   "id": "f28bf034",
   "metadata": {},
   "outputs": [
    {
     "name": "stdout",
     "output_type": "stream",
     "text": [
      "{'number_of_nodes': 2437}\n"
     ]
    }
   ],
   "source": [
    "for i in range(total):\n",
    "    if mask[i]:\n",
    "        memgraph.execute(\n",
    "            f\"MATCH (n {{id: {i}}}) DETACH DELETE n ;\"\n",
    "        )\n",
    "\n",
    "results = memgraph.execute_and_fetch(\n",
    "    \"\"\"\n",
    "    MATCH (n) RETURN count(n) AS number_of_nodes ;\n",
    "    \"\"\"\n",
    ")\n",
    "print(next(results)) "
   ]
  },
  {
   "cell_type": "markdown",
   "id": "5259b834",
   "metadata": {},
   "source": [
    "## Now load only previously dropped data"
   ]
  },
  {
   "cell_type": "code",
   "execution_count": 60,
   "id": "e4cdd3e5",
   "metadata": {},
   "outputs": [
    {
     "name": "stderr",
     "output_type": "stream",
     "text": [
      "100%|███████████████████| 2708/2708 [00:50<00:00, 53.61it/s]\n"
     ]
    }
   ],
   "source": [
    "memgraph.drop_database()\n",
    "for i in tqdm(range(data.num_nodes)):\n",
    "    memgraph.execute(f\"CREATE( :PAPER {{ id: {i}, features: {data.x[i].numpy().tolist()}, class: {data.y[i].numpy().tolist()} }} );\")"
   ]
  },
  {
   "cell_type": "code",
   "execution_count": 61,
   "id": "a0d2fadb",
   "metadata": {},
   "outputs": [],
   "source": [
    "memgraph.execute(\"CREATE INDEX ON :PAPER(id);\") #don't load edges without this"
   ]
  },
  {
   "cell_type": "code",
   "execution_count": 62,
   "id": "88bd2ff0",
   "metadata": {},
   "outputs": [
    {
     "name": "stderr",
     "output_type": "stream",
     "text": [
      "100%|████████████████| 10556/10556 [00:15<00:00, 690.01it/s]\n"
     ]
    }
   ],
   "source": [
    "for i in tqdm(range(data.num_edges)):\n",
    "    edge = data.edge_index[:,i].numpy().tolist()\n",
    "    memgraph.execute(f\"MATCH (a:PAPER {{id:{edge[0]}}} ), (b:PAPER {{id:{edge[1]}}}) CREATE (a)-[r:CITES]->(b);\")"
   ]
  },
  {
   "cell_type": "code",
   "execution_count": 63,
   "id": "b799a9de",
   "metadata": {},
   "outputs": [
    {
     "name": "stderr",
     "output_type": "stream",
     "text": [
      "100%|██████████████████| 2708/2708 [00:02<00:00, 925.38it/s]\n"
     ]
    }
   ],
   "source": [
    "for i in tqdm(range(total)):\n",
    "    if not mask[i]:\n",
    "        memgraph.execute(\n",
    "            f\"MATCH (n:PAPER {{id: {i}}}) DETACH DELETE n ;\"\n",
    "        )"
   ]
  }
 ],
 "metadata": {
  "kernelspec": {
   "display_name": "Python 3 (ipykernel)",
   "language": "python",
   "name": "python3"
  },
  "language_info": {
   "codemirror_mode": {
    "name": "ipython",
    "version": 3
   },
   "file_extension": ".py",
   "mimetype": "text/x-python",
   "name": "python",
   "nbconvert_exporter": "python",
   "pygments_lexer": "ipython3",
   "version": "3.8.10"
  }
 },
 "nbformat": 4,
 "nbformat_minor": 5
}

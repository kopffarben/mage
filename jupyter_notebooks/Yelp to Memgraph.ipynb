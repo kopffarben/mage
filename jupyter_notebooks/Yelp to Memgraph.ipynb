{
 "cells": [
  {
   "cell_type": "code",
   "execution_count": 1,
   "id": "31de9339",
   "metadata": {},
   "outputs": [],
   "source": [
    "import pickle\n",
    "import random as rd\n",
    "import numpy as np\n",
    "import scipy.sparse as sp\n",
    "from scipy.io import loadmat\n",
    "import copy as cp\n",
    "from sklearn.metrics import f1_score, accuracy_score, recall_score, roc_auc_score, average_precision_score\n",
    "from collections import defaultdict\n",
    "\n",
    "def sparse_to_adjlist(sp_matrix, filename):\n",
    "\t\"\"\"\n",
    "\tTransfer sparse matrix to adjacency list\n",
    "\t:param sp_matrix: the sparse matrix\n",
    "\t:param filename: the filename of adjlist\n",
    "\t\"\"\"\n",
    "\t# add self loop\n",
    "\thomo_adj = sp_matrix + sp.eye(sp_matrix.shape[0])\n",
    "\t# create adj_list\n",
    "\tadj_lists = defaultdict(set)\n",
    "\tedges = homo_adj.nonzero()\n",
    "\tfor index, node in enumerate(edges[0]):\n",
    "\t\tadj_lists[node].add(edges[1][index])\n",
    "\t\tadj_lists[edges[1][index]].add(node)\n",
    "\twith open(filename, 'wb') as file:\n",
    "\t\tpickle.dump(adj_lists, file)\n",
    "\tfile.close()\n",
    "\n",
    "PATH_TO_MAT = '../../CARE-GNN/data/YelpChi.mat'\n",
    "PATH_TO_PICKLE = 'data/yelp_homo_adjlists.pickle'\n",
    "\n",
    "data_file = loadmat(PATH_TO_MAT)\n",
    "yelp_homo = data_file['homo']\n",
    "sparse_to_adjlist(yelp_homo, PATH_TO_PICKLE)\n",
    "\n",
    "with open(PATH_TO_PICKLE, 'rb') as file:\n",
    "    homo = pickle.load(file)\n",
    "file.close()\n",
    "\n",
    "labels = data_file['label'].flatten()\n",
    "feat_data = data_file['features'].todense().A\n",
    "\n"
   ]
  },
  {
   "cell_type": "code",
   "execution_count": 19,
   "id": "aea9e436",
   "metadata": {},
   "outputs": [
    {
     "name": "stdout",
     "output_type": "stream",
     "text": [
      "(45954, 32)\n",
      "(45954,)\n"
     ]
    },
    {
     "name": "stderr",
     "output_type": "stream",
     "text": [
      "100%|█████████████| 45954/45954 [00:07<00:00, 6472.44it/s]\n"
     ]
    }
   ],
   "source": [
    "from tqdm import tqdm\n",
    "print(np.shape(feat_data))\n",
    "print(np.shape(labels))\n",
    "\n",
    "no_edges = 0\n",
    "for i in range(len(homo)):\n",
    "    no_edges += len(homo[i])\n",
    "edge_index = np.zeros((2, no_edges), dtype=int)\n",
    "\n",
    "current_edge = 0\n",
    "for i in tqdm(range(len(homo))):\n",
    "    for j in homo[i]:\n",
    "        edge_index[0][current_edge] += i\n",
    "        edge_index[1][current_edge] += j\n",
    "        current_edge += 1"
   ]
  },
  {
   "cell_type": "code",
   "execution_count": 12,
   "id": "15026f8d",
   "metadata": {},
   "outputs": [
    {
     "data": {
      "text/plain": [
       "3869956.0"
      ]
     },
     "execution_count": 12,
     "metadata": {},
     "output_type": "execute_result"
    }
   ],
   "source": []
  },
  {
   "cell_type": "code",
   "execution_count": 20,
   "id": "3fb97183",
   "metadata": {},
   "outputs": [],
   "source": [
    "from gqlalchemy import Memgraph\n",
    "memgraph = Memgraph(\"127.0.0.1\", 7687)\n",
    "memgraph.drop_database()"
   ]
  },
  {
   "cell_type": "code",
   "execution_count": 21,
   "id": "d81ef788",
   "metadata": {},
   "outputs": [
    {
     "name": "stdout",
     "output_type": "stream",
     "text": [
      "{'number_of_nodes': 0}\n"
     ]
    }
   ],
   "source": [
    "results = memgraph.execute_and_fetch(\n",
    "    \"\"\"\n",
    "    MATCH (n) RETURN count(n) AS number_of_nodes ;\n",
    "    \"\"\"\n",
    ")\n",
    "print(next(results))"
   ]
  },
  {
   "cell_type": "code",
   "execution_count": 59,
   "id": "2b38dd8b",
   "metadata": {},
   "outputs": [
    {
     "name": "stdout",
     "output_type": "stream",
     "text": [
      "[0.022375547147414496, 0.0704948438311448, 0.42868165294161287, 0.9999851621040137, 0.9999851621040137, 0.39845685881741966, 0.8235922546182951, 0.49702500185473697, 0.9654573781437792, 0.1502633726537577, 0.9999851621040137, 0.5832183396394391, 0.5839157207507976, 0.3814823058090363, 0.3816455226648861, 0.9999737277671229, 0.6430917163649739, 0.9999737277671229, 0.8025116254630481, 0.7833591676956625, 0.755169061818564, 0.7705120458187741, 0.9480597956020282, 0.8677718519296955, 0.9950248756218906, 0.9104477611940298, 0.07960199004975121, 0.00995024875621886, 0.014925373134328401, 0.5920398009950248, 0.13930348258706468, 0.4975124378109453]\n"
     ]
    }
   ],
   "source": [
    "print(feat_data[i].tolist())"
   ]
  },
  {
   "cell_type": "code",
   "execution_count": 22,
   "id": "d8f0979f",
   "metadata": {},
   "outputs": [
    {
     "name": "stderr",
     "output_type": "stream",
     "text": [
      "100%|██████████████████████████████████████| 45954/45954 [00:01<00:00, 44208.29it/s]\n",
      "100%|█████████████████████████████████| 7739912/7739912 [00:08<00:00, 950736.57it/s]\n"
     ]
    }
   ],
   "source": [
    "f = open(\"yelp.cypherl\", \"w\")\n",
    "\n",
    "for i in tqdm(range(len(feat_data))):\n",
    "    # memgraph.execute(f\"CREATE( :NODE {{ id: {i}, features: {(feat_data[i]).tolist()}, class: {labels[i]} }} );\\n\")\n",
    "    f.write(f\"CREATE( :NODE {{ id: {i}, features: {(feat_data[i]).tolist()}, class: {labels[i]} }} );\\n\")\n",
    "\n",
    "# memgraph.execute(\"CREATE INDEX ON :NODE(id);\") #don't load edges without this\n",
    "f.write(\"CREATE INDEX ON :NODE(id);\")\n",
    "\n",
    "for i in tqdm(range(len(edge_index[0]))):\n",
    "    edge = edge_index[:,i].tolist()\n",
    "    # memgraph.execute(f\"MATCH (a:NODE {{id:{edge[0]}}} ), (b:NODE {{id:{edge[1]}}}) CREATE (a)-[r:EDGE]-(b);\\n\")\n",
    "    f.write(f\"MATCH (a:NODE {{id:{edge[0]}}} ), (b:NODE {{id:{edge[1]}}}) CREATE (a)-[r:EDGE]->(b);\\n\")\n",
    "\n",
    "f.close()"
   ]
  },
  {
   "cell_type": "code",
   "execution_count": 9,
   "id": "a6109543",
   "metadata": {},
   "outputs": [],
   "source": [
    "f = open(\"yelp.cypherl\", \"r\")\n",
    "assert 7785866 == len(f.readlines()), \"not properly loaded\"\n",
    "f.close()"
   ]
  },
  {
   "cell_type": "code",
   "execution_count": 111,
   "id": "022aba74",
   "metadata": {},
   "outputs": [
    {
     "name": "stderr",
     "output_type": "stream",
     "text": [
      "  0%|      | 23857/7739912 [00:24<2:13:39, 962.16it/s]\n"
     ]
    },
    {
     "ename": "KeyboardInterrupt",
     "evalue": "",
     "output_type": "error",
     "traceback": [
      "\u001b[0;31m---------------------------------------------------------------------------\u001b[0m",
      "\u001b[0;31mKeyboardInterrupt\u001b[0m                         Traceback (most recent call last)",
      "Input \u001b[0;32mIn [111]\u001b[0m, in \u001b[0;36m<cell line: 6>\u001b[0;34m()\u001b[0m\n\u001b[1;32m      6\u001b[0m \u001b[38;5;28;01mfor\u001b[39;00m i \u001b[38;5;129;01min\u001b[39;00m tqdm(\u001b[38;5;28mrange\u001b[39m(\u001b[38;5;28mlen\u001b[39m(edge_index[\u001b[38;5;241m0\u001b[39m]))):\n\u001b[1;32m      7\u001b[0m     edge \u001b[38;5;241m=\u001b[39m edge_index[:,i]\u001b[38;5;241m.\u001b[39mtolist()\n\u001b[0;32m----> 8\u001b[0m     \u001b[43mmemgraph\u001b[49m\u001b[38;5;241;43m.\u001b[39;49m\u001b[43mexecute\u001b[49m\u001b[43m(\u001b[49m\u001b[38;5;124;43mf\u001b[39;49m\u001b[38;5;124;43m\"\u001b[39;49m\u001b[38;5;124;43mMERGE (a:NODE \u001b[39;49m\u001b[38;5;130;43;01m{{\u001b[39;49;00m\u001b[38;5;124;43mid:\u001b[39;49m\u001b[38;5;132;43;01m{\u001b[39;49;00m\u001b[43medge\u001b[49m\u001b[43m[\u001b[49m\u001b[38;5;241;43m0\u001b[39;49m\u001b[43m]\u001b[49m\u001b[38;5;132;43;01m}\u001b[39;49;00m\u001b[38;5;130;43;01m}}\u001b[39;49;00m\u001b[38;5;124;43m ) MERGE (b:NODE \u001b[39;49m\u001b[38;5;130;43;01m{{\u001b[39;49;00m\u001b[38;5;124;43mid:\u001b[39;49m\u001b[38;5;132;43;01m{\u001b[39;49;00m\u001b[43medge\u001b[49m\u001b[43m[\u001b[49m\u001b[38;5;241;43m1\u001b[39;49m\u001b[43m]\u001b[49m\u001b[38;5;132;43;01m}\u001b[39;49;00m\u001b[38;5;130;43;01m}}\u001b[39;49;00m\u001b[38;5;124;43m) CREATE (a)-[r:EDGE]->(b);\u001b[39;49m\u001b[38;5;130;43;01m\\n\u001b[39;49;00m\u001b[38;5;124;43m\"\u001b[39;49m\u001b[43m)\u001b[49m\n\u001b[1;32m      9\u001b[0m     \u001b[38;5;66;03m# f.write(f\"MERGE (a:NODE {{id:{edge[0]}}} ) MERGE (b:NODE {{id:{edge[1]}}}) CREATE (a)-[r:EDGE]->(b);\\n\")\u001b[39;00m\n\u001b[1;32m     11\u001b[0m \u001b[38;5;28;01mfor\u001b[39;00m i \u001b[38;5;129;01min\u001b[39;00m tqdm(\u001b[38;5;28mrange\u001b[39m(\u001b[38;5;28mlen\u001b[39m(feat_data))):\n",
      "File \u001b[0;32m~/.local/lib/python3.8/site-packages/gqlalchemy/vendors/database_client.py:62\u001b[0m, in \u001b[0;36mDatabaseClient.execute\u001b[0;34m(self, query, connection)\u001b[0m\n\u001b[1;32m     60\u001b[0m \u001b[38;5;124;03m\"\"\"Executes Cypher query without returning any results.\"\"\"\u001b[39;00m\n\u001b[1;32m     61\u001b[0m connection \u001b[38;5;241m=\u001b[39m connection \u001b[38;5;129;01mor\u001b[39;00m \u001b[38;5;28mself\u001b[39m\u001b[38;5;241m.\u001b[39m_get_cached_connection()\n\u001b[0;32m---> 62\u001b[0m \u001b[43mconnection\u001b[49m\u001b[38;5;241;43m.\u001b[39;49m\u001b[43mexecute\u001b[49m\u001b[43m(\u001b[49m\u001b[43mquery\u001b[49m\u001b[43m)\u001b[49m\n",
      "File \u001b[0;32m~/.local/lib/python3.8/site-packages/gqlalchemy/exceptions.py:205\u001b[0m, in \u001b[0;36mdatabase_error_handler.<locals>.inner_function\u001b[0;34m(*args, **kwargs)\u001b[0m\n\u001b[1;32m    203\u001b[0m \u001b[38;5;28;01mdef\u001b[39;00m \u001b[38;5;21minner_function\u001b[39m(\u001b[38;5;241m*\u001b[39margs, \u001b[38;5;241m*\u001b[39m\u001b[38;5;241m*\u001b[39mkwargs):\n\u001b[1;32m    204\u001b[0m     \u001b[38;5;28;01mtry\u001b[39;00m:\n\u001b[0;32m--> 205\u001b[0m         \u001b[38;5;28;01mreturn\u001b[39;00m \u001b[43mfunc\u001b[49m\u001b[43m(\u001b[49m\u001b[38;5;241;43m*\u001b[39;49m\u001b[43margs\u001b[49m\u001b[43m,\u001b[49m\u001b[43m \u001b[49m\u001b[38;5;241;43m*\u001b[39;49m\u001b[38;5;241;43m*\u001b[39;49m\u001b[43mkwargs\u001b[49m\u001b[43m)\u001b[49m\n\u001b[1;32m    206\u001b[0m     \u001b[38;5;28;01mexcept\u001b[39;00m \u001b[38;5;167;01mException\u001b[39;00m \u001b[38;5;28;01mas\u001b[39;00m e:\n\u001b[1;32m    207\u001b[0m         \u001b[38;5;28;01mraise\u001b[39;00m GQLAlchemyDatabaseError(e)\n",
      "File \u001b[0;32m~/.local/lib/python3.8/site-packages/gqlalchemy/connection.py:84\u001b[0m, in \u001b[0;36mMemgraphConnection.execute\u001b[0;34m(self, query)\u001b[0m\n\u001b[1;32m     82\u001b[0m \u001b[38;5;124;03m\"\"\"Executes Cypher query without returning any results.\"\"\"\u001b[39;00m\n\u001b[1;32m     83\u001b[0m cursor \u001b[38;5;241m=\u001b[39m \u001b[38;5;28mself\u001b[39m\u001b[38;5;241m.\u001b[39m_connection\u001b[38;5;241m.\u001b[39mcursor()\n\u001b[0;32m---> 84\u001b[0m \u001b[43mcursor\u001b[49m\u001b[38;5;241;43m.\u001b[39;49m\u001b[43mexecute\u001b[49m\u001b[43m(\u001b[49m\u001b[43mquery\u001b[49m\u001b[43m)\u001b[49m\n\u001b[1;32m     85\u001b[0m cursor\u001b[38;5;241m.\u001b[39mfetchall()\n",
      "\u001b[0;31mKeyboardInterrupt\u001b[0m: "
     ]
    }
   ],
   "source": [
    "f = open(\"yelp.cypherl\", \"w\")\n",
    "\n",
    "memgraph.execute(\"CREATE INDEX ON :NODE(id);\\n\") #don't load edges without this\n",
    "# f.write(\"CREATE INDEX ON :NODE(id);\\n\")\n",
    "\n",
    "for i in tqdm(range(len(edge_index[0]))):\n",
    "    edge = edge_index[:,i].tolist()\n",
    "    memgraph.execute(f\"MERGE (a:NODE {{id:{edge[0]}}} ) MERGE (b:NODE {{id:{edge[1]}}}) CREATE (a)-[r:EDGE]->(b);\\n\")\n",
    "    # f.write(f\"MERGE (a:NODE {{id:{edge[0]}}} ) MERGE (b:NODE {{id:{edge[1]}}}) CREATE (a)-[r:EDGE]->(b);\\n\")\n",
    "\n",
    "for i in tqdm(range(len(feat_data))):\n",
    "    memgraph.execute(f\"CREATE( :NODE {{ id: {i}, features: {(feat_data[i]).tolist()}, class: {labels[i]} }} );\")\n",
    "    # f.write(f\"CREATE( :NODE {{ id: {i}, features: {(feat_data[i]).tolist()}, class: {labels[i]} }} );\")\n",
    "\n",
    "\n",
    "f.close()\n"
   ]
  }
 ],
 "metadata": {
  "kernelspec": {
   "display_name": "Python 3 (ipykernel)",
   "language": "python",
   "name": "python3"
  },
  "language_info": {
   "codemirror_mode": {
    "name": "ipython",
    "version": 3
   },
   "file_extension": ".py",
   "mimetype": "text/x-python",
   "name": "python",
   "nbconvert_exporter": "python",
   "pygments_lexer": "ipython3",
   "version": "3.8.10"
  }
 },
 "nbformat": 4,
 "nbformat_minor": 5
}

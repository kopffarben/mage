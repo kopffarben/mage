{
 "cells": [
  {
   "cell_type": "markdown",
   "id": "31e7ddd7",
   "metadata": {},
   "source": [
    "# Loading data from torch_geometric.datasets (CORA) to Memgraph"
   ]
  },
  {
   "cell_type": "code",
   "execution_count": 5,
   "id": "7c897e6e",
   "metadata": {},
   "outputs": [
    {
     "name": "stderr",
     "output_type": "stream",
     "text": [
      "/home/mateo/.local/lib/python3.8/site-packages/tqdm/auto.py:22: TqdmWarning: IProgress not found. Please update jupyter and ipywidgets. See https://ipywidgets.readthedocs.io/en/stable/user_install.html\n",
      "  from .autonotebook import tqdm as notebook_tqdm\n"
     ]
    },
    {
     "name": "stdout",
     "output_type": "stream",
     "text": [
      "\n",
      "Dataset: Cora():\n",
      "======================\n",
      "Number of graphs: 1\n",
      "Number of features: 1433\n",
      "Number of classes: 7\n",
      "\n",
      "Data(x=[2708, 1433], edge_index=[2, 10556], y=[2708], train_mask=[2708], val_mask=[2708], test_mask=[2708])\n",
      "===========================================================================================================\n",
      "Number of nodes: 2708\n",
      "Number of edges: 10556\n",
      "Average node degree: 3.90\n",
      "Number of training nodes: 140\n",
      "Training node label rate: 0.05\n",
      "Has isolated nodes: False\n",
      "Has self-loops: False\n",
      "Is undirected: True\n"
     ]
    }
   ],
   "source": [
    "from torch_geometric.datasets import Planetoid\n",
    "from torch_geometric.transforms import NormalizeFeatures\n",
    "from tqdm import tqdm\n",
    "\n",
    "dataset = Planetoid(root='data/Planetoid', name='Cora', transform=NormalizeFeatures())\n",
    "\n",
    "print()\n",
    "print(f'Dataset: {dataset}:')\n",
    "print('======================')\n",
    "print(f'Number of graphs: {len(dataset)}')\n",
    "print(f'Number of features: {dataset.num_features}')\n",
    "print(f'Number of classes: {dataset.num_classes}')\n",
    "\n",
    "data = dataset[0]  # Get the first graph object.\n",
    "\n",
    "print()\n",
    "print(data)\n",
    "print('===========================================================================================================')\n",
    "\n",
    "# Gather some statistics about the graph.\n",
    "print(f'Number of nodes: {data.num_nodes}')\n",
    "print(f'Number of edges: {data.num_edges}')\n",
    "print(f'Average node degree: {data.num_edges / data.num_nodes:.2f}')\n",
    "print(f'Number of training nodes: {data.train_mask.sum()}')\n",
    "print(f'Training node label rate: {int(data.train_mask.sum()) / data.num_nodes:.2f}')\n",
    "print(f'Has isolated nodes: {data.has_isolated_nodes()}')\n",
    "print(f'Has self-loops: {data.has_self_loops()}')\n",
    "print(f'Is undirected: {data.is_undirected()}')"
   ]
  },
  {
   "cell_type": "code",
   "execution_count": 48,
   "id": "4b53936e",
   "metadata": {},
   "outputs": [
    {
     "name": "stdout",
     "output_type": "stream",
     "text": [
      "\n",
      "Dataset: KarateClub():\n",
      "======================\n",
      "Number of graphs: 1\n",
      "Number of features: 34\n",
      "Number of classes: 4\n",
      "\n",
      "Data(x=[34, 34], edge_index=[2, 156], y=[34], train_mask=[34])\n",
      "===========================================================================================================\n",
      "Number of nodes: 34\n",
      "Number of edges: 156\n",
      "Average node degree: 4.59\n",
      "Has isolated nodes: False\n",
      "Has self-loops: False\n",
      "Is undirected: True\n"
     ]
    }
   ],
   "source": [
    "from torch_geometric.datasets import KarateClub\n",
    "from torch_geometric.transforms import NormalizeFeatures\n",
    "from tqdm import tqdm\n",
    "\n",
    "dataset = KarateClub(transform=NormalizeFeatures())\n",
    "\n",
    "print()\n",
    "print(f'Dataset: {dataset}:')\n",
    "print('======================')\n",
    "print(f'Number of graphs: {len(dataset)}')\n",
    "print(f'Number of features: {dataset.num_features}')\n",
    "print(f'Number of classes: {dataset.num_classes}')\n",
    "\n",
    "data = dataset[0]  # Get the first graph object.\n",
    "\n",
    "print()\n",
    "print(data)\n",
    "print('===========================================================================================================')\n",
    "\n",
    "# Gather some statistics about the graph.\n",
    "print(f'Number of nodes: {data.num_nodes}')\n",
    "print(f'Number of edges: {data.num_edges}')\n",
    "print(f'Average node degree: {data.num_edges / data.num_nodes:.2f}')\n",
    "\n",
    "print(f'Has isolated nodes: {data.has_isolated_nodes()}')\n",
    "print(f'Has self-loops: {data.has_self_loops()}')\n",
    "print(f'Is undirected: {data.is_undirected()}')\n",
    "\n"
   ]
  },
  {
   "cell_type": "code",
   "execution_count": 6,
   "id": "51fada04",
   "metadata": {},
   "outputs": [],
   "source": [
    "from gqlalchemy import Memgraph\n",
    "memgraph = Memgraph(\"127.0.0.1\", 7687)\n",
    "memgraph.drop_database()"
   ]
  },
  {
   "cell_type": "code",
   "execution_count": 17,
   "id": "ba9b1cff",
   "metadata": {},
   "outputs": [
    {
     "name": "stdout",
     "output_type": "stream",
     "text": [
      "{'number_of_nodes': 0}\n"
     ]
    }
   ],
   "source": [
    "results = memgraph.execute_and_fetch(\n",
    "    \"\"\"\n",
    "    MATCH (n) RETURN count(n) AS number_of_nodes ;\n",
    "    \"\"\"\n",
    ")\n",
    "print(next(results))"
   ]
  },
  {
   "cell_type": "code",
   "execution_count": 51,
   "id": "88fd5876",
   "metadata": {},
   "outputs": [
    {
     "name": "stderr",
     "output_type": "stream",
     "text": [
      "100%|████████████████████| 34/34 [00:00<00:00, 24141.92it/s]"
     ]
    },
    {
     "name": "stdout",
     "output_type": "stream",
     "text": [
      "CREATE( :USER { id: 0, features: [1.0, 0.0, 0.0, 0.0, 0.0, 0.0, 0.0, 0.0, 0.0, 0.0, 0.0, 0.0, 0.0, 0.0, 0.0, 0.0, 0.0, 0.0, 0.0, 0.0, 0.0, 0.0, 0.0, 0.0, 0.0, 0.0, 0.0, 0.0, 0.0, 0.0, 0.0, 0.0, 0.0, 0.0], class: 1 } );\n",
      "CREATE( :USER { id: 1, features: [0.0, 1.0, 0.0, 0.0, 0.0, 0.0, 0.0, 0.0, 0.0, 0.0, 0.0, 0.0, 0.0, 0.0, 0.0, 0.0, 0.0, 0.0, 0.0, 0.0, 0.0, 0.0, 0.0, 0.0, 0.0, 0.0, 0.0, 0.0, 0.0, 0.0, 0.0, 0.0, 0.0, 0.0], class: 1 } );\n",
      "CREATE( :USER { id: 2, features: [0.0, 0.0, 1.0, 0.0, 0.0, 0.0, 0.0, 0.0, 0.0, 0.0, 0.0, 0.0, 0.0, 0.0, 0.0, 0.0, 0.0, 0.0, 0.0, 0.0, 0.0, 0.0, 0.0, 0.0, 0.0, 0.0, 0.0, 0.0, 0.0, 0.0, 0.0, 0.0, 0.0, 0.0], class: 1 } );\n",
      "CREATE( :USER { id: 3, features: [0.0, 0.0, 0.0, 1.0, 0.0, 0.0, 0.0, 0.0, 0.0, 0.0, 0.0, 0.0, 0.0, 0.0, 0.0, 0.0, 0.0, 0.0, 0.0, 0.0, 0.0, 0.0, 0.0, 0.0, 0.0, 0.0, 0.0, 0.0, 0.0, 0.0, 0.0, 0.0, 0.0, 0.0], class: 1 } );\n",
      "CREATE( :USER { id: 4, features: [0.0, 0.0, 0.0, 0.0, 1.0, 0.0, 0.0, 0.0, 0.0, 0.0, 0.0, 0.0, 0.0, 0.0, 0.0, 0.0, 0.0, 0.0, 0.0, 0.0, 0.0, 0.0, 0.0, 0.0, 0.0, 0.0, 0.0, 0.0, 0.0, 0.0, 0.0, 0.0, 0.0, 0.0], class: 3 } );\n",
      "CREATE( :USER { id: 5, features: [0.0, 0.0, 0.0, 0.0, 0.0, 1.0, 0.0, 0.0, 0.0, 0.0, 0.0, 0.0, 0.0, 0.0, 0.0, 0.0, 0.0, 0.0, 0.0, 0.0, 0.0, 0.0, 0.0, 0.0, 0.0, 0.0, 0.0, 0.0, 0.0, 0.0, 0.0, 0.0, 0.0, 0.0], class: 3 } );\n",
      "CREATE( :USER { id: 6, features: [0.0, 0.0, 0.0, 0.0, 0.0, 0.0, 1.0, 0.0, 0.0, 0.0, 0.0, 0.0, 0.0, 0.0, 0.0, 0.0, 0.0, 0.0, 0.0, 0.0, 0.0, 0.0, 0.0, 0.0, 0.0, 0.0, 0.0, 0.0, 0.0, 0.0, 0.0, 0.0, 0.0, 0.0], class: 3 } );\n",
      "CREATE( :USER { id: 7, features: [0.0, 0.0, 0.0, 0.0, 0.0, 0.0, 0.0, 1.0, 0.0, 0.0, 0.0, 0.0, 0.0, 0.0, 0.0, 0.0, 0.0, 0.0, 0.0, 0.0, 0.0, 0.0, 0.0, 0.0, 0.0, 0.0, 0.0, 0.0, 0.0, 0.0, 0.0, 0.0, 0.0, 0.0], class: 1 } );\n",
      "CREATE( :USER { id: 8, features: [0.0, 0.0, 0.0, 0.0, 0.0, 0.0, 0.0, 0.0, 1.0, 0.0, 0.0, 0.0, 0.0, 0.0, 0.0, 0.0, 0.0, 0.0, 0.0, 0.0, 0.0, 0.0, 0.0, 0.0, 0.0, 0.0, 0.0, 0.0, 0.0, 0.0, 0.0, 0.0, 0.0, 0.0], class: 0 } );\n",
      "CREATE( :USER { id: 9, features: [0.0, 0.0, 0.0, 0.0, 0.0, 0.0, 0.0, 0.0, 0.0, 1.0, 0.0, 0.0, 0.0, 0.0, 0.0, 0.0, 0.0, 0.0, 0.0, 0.0, 0.0, 0.0, 0.0, 0.0, 0.0, 0.0, 0.0, 0.0, 0.0, 0.0, 0.0, 0.0, 0.0, 0.0], class: 1 } );\n",
      "CREATE( :USER { id: 10, features: [0.0, 0.0, 0.0, 0.0, 0.0, 0.0, 0.0, 0.0, 0.0, 0.0, 1.0, 0.0, 0.0, 0.0, 0.0, 0.0, 0.0, 0.0, 0.0, 0.0, 0.0, 0.0, 0.0, 0.0, 0.0, 0.0, 0.0, 0.0, 0.0, 0.0, 0.0, 0.0, 0.0, 0.0], class: 3 } );\n",
      "CREATE( :USER { id: 11, features: [0.0, 0.0, 0.0, 0.0, 0.0, 0.0, 0.0, 0.0, 0.0, 0.0, 0.0, 1.0, 0.0, 0.0, 0.0, 0.0, 0.0, 0.0, 0.0, 0.0, 0.0, 0.0, 0.0, 0.0, 0.0, 0.0, 0.0, 0.0, 0.0, 0.0, 0.0, 0.0, 0.0, 0.0], class: 1 } );\n",
      "CREATE( :USER { id: 12, features: [0.0, 0.0, 0.0, 0.0, 0.0, 0.0, 0.0, 0.0, 0.0, 0.0, 0.0, 0.0, 1.0, 0.0, 0.0, 0.0, 0.0, 0.0, 0.0, 0.0, 0.0, 0.0, 0.0, 0.0, 0.0, 0.0, 0.0, 0.0, 0.0, 0.0, 0.0, 0.0, 0.0, 0.0], class: 1 } );\n",
      "CREATE( :USER { id: 13, features: [0.0, 0.0, 0.0, 0.0, 0.0, 0.0, 0.0, 0.0, 0.0, 0.0, 0.0, 0.0, 0.0, 1.0, 0.0, 0.0, 0.0, 0.0, 0.0, 0.0, 0.0, 0.0, 0.0, 0.0, 0.0, 0.0, 0.0, 0.0, 0.0, 0.0, 0.0, 0.0, 0.0, 0.0], class: 1 } );\n",
      "CREATE( :USER { id: 14, features: [0.0, 0.0, 0.0, 0.0, 0.0, 0.0, 0.0, 0.0, 0.0, 0.0, 0.0, 0.0, 0.0, 0.0, 1.0, 0.0, 0.0, 0.0, 0.0, 0.0, 0.0, 0.0, 0.0, 0.0, 0.0, 0.0, 0.0, 0.0, 0.0, 0.0, 0.0, 0.0, 0.0, 0.0], class: 0 } );\n",
      "CREATE( :USER { id: 15, features: [0.0, 0.0, 0.0, 0.0, 0.0, 0.0, 0.0, 0.0, 0.0, 0.0, 0.0, 0.0, 0.0, 0.0, 0.0, 1.0, 0.0, 0.0, 0.0, 0.0, 0.0, 0.0, 0.0, 0.0, 0.0, 0.0, 0.0, 0.0, 0.0, 0.0, 0.0, 0.0, 0.0, 0.0], class: 0 } );\n",
      "CREATE( :USER { id: 16, features: [0.0, 0.0, 0.0, 0.0, 0.0, 0.0, 0.0, 0.0, 0.0, 0.0, 0.0, 0.0, 0.0, 0.0, 0.0, 0.0, 1.0, 0.0, 0.0, 0.0, 0.0, 0.0, 0.0, 0.0, 0.0, 0.0, 0.0, 0.0, 0.0, 0.0, 0.0, 0.0, 0.0, 0.0], class: 3 } );\n",
      "CREATE( :USER { id: 17, features: [0.0, 0.0, 0.0, 0.0, 0.0, 0.0, 0.0, 0.0, 0.0, 0.0, 0.0, 0.0, 0.0, 0.0, 0.0, 0.0, 0.0, 1.0, 0.0, 0.0, 0.0, 0.0, 0.0, 0.0, 0.0, 0.0, 0.0, 0.0, 0.0, 0.0, 0.0, 0.0, 0.0, 0.0], class: 1 } );\n",
      "CREATE( :USER { id: 18, features: [0.0, 0.0, 0.0, 0.0, 0.0, 0.0, 0.0, 0.0, 0.0, 0.0, 0.0, 0.0, 0.0, 0.0, 0.0, 0.0, 0.0, 0.0, 1.0, 0.0, 0.0, 0.0, 0.0, 0.0, 0.0, 0.0, 0.0, 0.0, 0.0, 0.0, 0.0, 0.0, 0.0, 0.0], class: 0 } );\n",
      "CREATE( :USER { id: 19, features: [0.0, 0.0, 0.0, 0.0, 0.0, 0.0, 0.0, 0.0, 0.0, 0.0, 0.0, 0.0, 0.0, 0.0, 0.0, 0.0, 0.0, 0.0, 0.0, 1.0, 0.0, 0.0, 0.0, 0.0, 0.0, 0.0, 0.0, 0.0, 0.0, 0.0, 0.0, 0.0, 0.0, 0.0], class: 1 } );\n",
      "CREATE( :USER { id: 20, features: [0.0, 0.0, 0.0, 0.0, 0.0, 0.0, 0.0, 0.0, 0.0, 0.0, 0.0, 0.0, 0.0, 0.0, 0.0, 0.0, 0.0, 0.0, 0.0, 0.0, 1.0, 0.0, 0.0, 0.0, 0.0, 0.0, 0.0, 0.0, 0.0, 0.0, 0.0, 0.0, 0.0, 0.0], class: 0 } );\n",
      "CREATE( :USER { id: 21, features: [0.0, 0.0, 0.0, 0.0, 0.0, 0.0, 0.0, 0.0, 0.0, 0.0, 0.0, 0.0, 0.0, 0.0, 0.0, 0.0, 0.0, 0.0, 0.0, 0.0, 0.0, 1.0, 0.0, 0.0, 0.0, 0.0, 0.0, 0.0, 0.0, 0.0, 0.0, 0.0, 0.0, 0.0], class: 1 } );\n",
      "CREATE( :USER { id: 22, features: [0.0, 0.0, 0.0, 0.0, 0.0, 0.0, 0.0, 0.0, 0.0, 0.0, 0.0, 0.0, 0.0, 0.0, 0.0, 0.0, 0.0, 0.0, 0.0, 0.0, 0.0, 0.0, 1.0, 0.0, 0.0, 0.0, 0.0, 0.0, 0.0, 0.0, 0.0, 0.0, 0.0, 0.0], class: 0 } );\n",
      "CREATE( :USER { id: 23, features: [0.0, 0.0, 0.0, 0.0, 0.0, 0.0, 0.0, 0.0, 0.0, 0.0, 0.0, 0.0, 0.0, 0.0, 0.0, 0.0, 0.0, 0.0, 0.0, 0.0, 0.0, 0.0, 0.0, 1.0, 0.0, 0.0, 0.0, 0.0, 0.0, 0.0, 0.0, 0.0, 0.0, 0.0], class: 0 } );\n",
      "CREATE( :USER { id: 24, features: [0.0, 0.0, 0.0, 0.0, 0.0, 0.0, 0.0, 0.0, 0.0, 0.0, 0.0, 0.0, 0.0, 0.0, 0.0, 0.0, 0.0, 0.0, 0.0, 0.0, 0.0, 0.0, 0.0, 0.0, 1.0, 0.0, 0.0, 0.0, 0.0, 0.0, 0.0, 0.0, 0.0, 0.0], class: 2 } );\n",
      "CREATE( :USER { id: 25, features: [0.0, 0.0, 0.0, 0.0, 0.0, 0.0, 0.0, 0.0, 0.0, 0.0, 0.0, 0.0, 0.0, 0.0, 0.0, 0.0, 0.0, 0.0, 0.0, 0.0, 0.0, 0.0, 0.0, 0.0, 0.0, 1.0, 0.0, 0.0, 0.0, 0.0, 0.0, 0.0, 0.0, 0.0], class: 2 } );\n",
      "CREATE( :USER { id: 26, features: [0.0, 0.0, 0.0, 0.0, 0.0, 0.0, 0.0, 0.0, 0.0, 0.0, 0.0, 0.0, 0.0, 0.0, 0.0, 0.0, 0.0, 0.0, 0.0, 0.0, 0.0, 0.0, 0.0, 0.0, 0.0, 0.0, 1.0, 0.0, 0.0, 0.0, 0.0, 0.0, 0.0, 0.0], class: 0 } );\n",
      "CREATE( :USER { id: 27, features: [0.0, 0.0, 0.0, 0.0, 0.0, 0.0, 0.0, 0.0, 0.0, 0.0, 0.0, 0.0, 0.0, 0.0, 0.0, 0.0, 0.0, 0.0, 0.0, 0.0, 0.0, 0.0, 0.0, 0.0, 0.0, 0.0, 0.0, 1.0, 0.0, 0.0, 0.0, 0.0, 0.0, 0.0], class: 0 } );\n",
      "CREATE( :USER { id: 28, features: [0.0, 0.0, 0.0, 0.0, 0.0, 0.0, 0.0, 0.0, 0.0, 0.0, 0.0, 0.0, 0.0, 0.0, 0.0, 0.0, 0.0, 0.0, 0.0, 0.0, 0.0, 0.0, 0.0, 0.0, 0.0, 0.0, 0.0, 0.0, 1.0, 0.0, 0.0, 0.0, 0.0, 0.0], class: 2 } );\n",
      "CREATE( :USER { id: 29, features: [0.0, 0.0, 0.0, 0.0, 0.0, 0.0, 0.0, 0.0, 0.0, 0.0, 0.0, 0.0, 0.0, 0.0, 0.0, 0.0, 0.0, 0.0, 0.0, 0.0, 0.0, 0.0, 0.0, 0.0, 0.0, 0.0, 0.0, 0.0, 0.0, 1.0, 0.0, 0.0, 0.0, 0.0], class: 0 } );\n",
      "CREATE( :USER { id: 30, features: [0.0, 0.0, 0.0, 0.0, 0.0, 0.0, 0.0, 0.0, 0.0, 0.0, 0.0, 0.0, 0.0, 0.0, 0.0, 0.0, 0.0, 0.0, 0.0, 0.0, 0.0, 0.0, 0.0, 0.0, 0.0, 0.0, 0.0, 0.0, 0.0, 0.0, 1.0, 0.0, 0.0, 0.0], class: 0 } );\n",
      "CREATE( :USER { id: 31, features: [0.0, 0.0, 0.0, 0.0, 0.0, 0.0, 0.0, 0.0, 0.0, 0.0, 0.0, 0.0, 0.0, 0.0, 0.0, 0.0, 0.0, 0.0, 0.0, 0.0, 0.0, 0.0, 0.0, 0.0, 0.0, 0.0, 0.0, 0.0, 0.0, 0.0, 0.0, 1.0, 0.0, 0.0], class: 2 } );\n",
      "CREATE( :USER { id: 32, features: [0.0, 0.0, 0.0, 0.0, 0.0, 0.0, 0.0, 0.0, 0.0, 0.0, 0.0, 0.0, 0.0, 0.0, 0.0, 0.0, 0.0, 0.0, 0.0, 0.0, 0.0, 0.0, 0.0, 0.0, 0.0, 0.0, 0.0, 0.0, 0.0, 0.0, 0.0, 0.0, 1.0, 0.0], class: 0 } );\n",
      "CREATE( :USER { id: 33, features: [0.0, 0.0, 0.0, 0.0, 0.0, 0.0, 0.0, 0.0, 0.0, 0.0, 0.0, 0.0, 0.0, 0.0, 0.0, 0.0, 0.0, 0.0, 0.0, 0.0, 0.0, 0.0, 0.0, 0.0, 0.0, 0.0, 0.0, 0.0, 0.0, 0.0, 0.0, 0.0, 0.0, 1.0], class: 0 } );\n"
     ]
    },
    {
     "name": "stderr",
     "output_type": "stream",
     "text": [
      "\n"
     ]
    }
   ],
   "source": [
    "for i in tqdm(range(data.num_nodes)):\n",
    "    # memgraph.execute(f\"CREATE( :PAPER {{ id: {i}, features: {data.x[i].numpy().tolist()}, class: {data.y[i].numpy().tolist()} }} );\")\n",
    "    print(f\"CREATE( :USER {{ id: {i}, features: {data.x[i].numpy().tolist()}, class: {data.y[i].numpy().tolist()} }} );\")"
   ]
  },
  {
   "cell_type": "code",
   "execution_count": 13,
   "id": "2a0e6a2e",
   "metadata": {},
   "outputs": [],
   "source": [
    "memgraph.execute(\"CREATE INDEX ON :PAPER(id);\") #don't load edges without this"
   ]
  },
  {
   "cell_type": "code",
   "execution_count": 52,
   "id": "a3c4941f",
   "metadata": {},
   "outputs": [
    {
     "name": "stderr",
     "output_type": "stream",
     "text": [
      "100%|██████████████████| 156/156 [00:00<00:00, 49274.15it/s]"
     ]
    },
    {
     "name": "stdout",
     "output_type": "stream",
     "text": [
      "MATCH (a:USER {id:0} ), (b:USER {id:1}) CREATE (a)-[r:CONNECTS]->(b);\n",
      "MATCH (a:USER {id:0} ), (b:USER {id:2}) CREATE (a)-[r:CONNECTS]->(b);\n",
      "MATCH (a:USER {id:0} ), (b:USER {id:3}) CREATE (a)-[r:CONNECTS]->(b);\n",
      "MATCH (a:USER {id:0} ), (b:USER {id:4}) CREATE (a)-[r:CONNECTS]->(b);\n",
      "MATCH (a:USER {id:0} ), (b:USER {id:5}) CREATE (a)-[r:CONNECTS]->(b);\n",
      "MATCH (a:USER {id:0} ), (b:USER {id:6}) CREATE (a)-[r:CONNECTS]->(b);\n",
      "MATCH (a:USER {id:0} ), (b:USER {id:7}) CREATE (a)-[r:CONNECTS]->(b);\n",
      "MATCH (a:USER {id:0} ), (b:USER {id:8}) CREATE (a)-[r:CONNECTS]->(b);\n",
      "MATCH (a:USER {id:0} ), (b:USER {id:10}) CREATE (a)-[r:CONNECTS]->(b);\n",
      "MATCH (a:USER {id:0} ), (b:USER {id:11}) CREATE (a)-[r:CONNECTS]->(b);\n",
      "MATCH (a:USER {id:0} ), (b:USER {id:12}) CREATE (a)-[r:CONNECTS]->(b);\n",
      "MATCH (a:USER {id:0} ), (b:USER {id:13}) CREATE (a)-[r:CONNECTS]->(b);\n",
      "MATCH (a:USER {id:0} ), (b:USER {id:17}) CREATE (a)-[r:CONNECTS]->(b);\n",
      "MATCH (a:USER {id:0} ), (b:USER {id:19}) CREATE (a)-[r:CONNECTS]->(b);\n",
      "MATCH (a:USER {id:0} ), (b:USER {id:21}) CREATE (a)-[r:CONNECTS]->(b);\n",
      "MATCH (a:USER {id:0} ), (b:USER {id:31}) CREATE (a)-[r:CONNECTS]->(b);\n",
      "MATCH (a:USER {id:1} ), (b:USER {id:0}) CREATE (a)-[r:CONNECTS]->(b);\n",
      "MATCH (a:USER {id:1} ), (b:USER {id:2}) CREATE (a)-[r:CONNECTS]->(b);\n",
      "MATCH (a:USER {id:1} ), (b:USER {id:3}) CREATE (a)-[r:CONNECTS]->(b);\n",
      "MATCH (a:USER {id:1} ), (b:USER {id:7}) CREATE (a)-[r:CONNECTS]->(b);\n",
      "MATCH (a:USER {id:1} ), (b:USER {id:13}) CREATE (a)-[r:CONNECTS]->(b);\n",
      "MATCH (a:USER {id:1} ), (b:USER {id:17}) CREATE (a)-[r:CONNECTS]->(b);\n",
      "MATCH (a:USER {id:1} ), (b:USER {id:19}) CREATE (a)-[r:CONNECTS]->(b);\n",
      "MATCH (a:USER {id:1} ), (b:USER {id:21}) CREATE (a)-[r:CONNECTS]->(b);\n",
      "MATCH (a:USER {id:1} ), (b:USER {id:30}) CREATE (a)-[r:CONNECTS]->(b);\n",
      "MATCH (a:USER {id:2} ), (b:USER {id:0}) CREATE (a)-[r:CONNECTS]->(b);\n",
      "MATCH (a:USER {id:2} ), (b:USER {id:1}) CREATE (a)-[r:CONNECTS]->(b);\n",
      "MATCH (a:USER {id:2} ), (b:USER {id:3}) CREATE (a)-[r:CONNECTS]->(b);\n",
      "MATCH (a:USER {id:2} ), (b:USER {id:7}) CREATE (a)-[r:CONNECTS]->(b);\n",
      "MATCH (a:USER {id:2} ), (b:USER {id:8}) CREATE (a)-[r:CONNECTS]->(b);\n",
      "MATCH (a:USER {id:2} ), (b:USER {id:9}) CREATE (a)-[r:CONNECTS]->(b);\n",
      "MATCH (a:USER {id:2} ), (b:USER {id:13}) CREATE (a)-[r:CONNECTS]->(b);\n",
      "MATCH (a:USER {id:2} ), (b:USER {id:27}) CREATE (a)-[r:CONNECTS]->(b);\n",
      "MATCH (a:USER {id:2} ), (b:USER {id:28}) CREATE (a)-[r:CONNECTS]->(b);\n",
      "MATCH (a:USER {id:2} ), (b:USER {id:32}) CREATE (a)-[r:CONNECTS]->(b);\n",
      "MATCH (a:USER {id:3} ), (b:USER {id:0}) CREATE (a)-[r:CONNECTS]->(b);\n",
      "MATCH (a:USER {id:3} ), (b:USER {id:1}) CREATE (a)-[r:CONNECTS]->(b);\n",
      "MATCH (a:USER {id:3} ), (b:USER {id:2}) CREATE (a)-[r:CONNECTS]->(b);\n",
      "MATCH (a:USER {id:3} ), (b:USER {id:7}) CREATE (a)-[r:CONNECTS]->(b);\n",
      "MATCH (a:USER {id:3} ), (b:USER {id:12}) CREATE (a)-[r:CONNECTS]->(b);\n",
      "MATCH (a:USER {id:3} ), (b:USER {id:13}) CREATE (a)-[r:CONNECTS]->(b);\n",
      "MATCH (a:USER {id:4} ), (b:USER {id:0}) CREATE (a)-[r:CONNECTS]->(b);\n",
      "MATCH (a:USER {id:4} ), (b:USER {id:6}) CREATE (a)-[r:CONNECTS]->(b);\n",
      "MATCH (a:USER {id:4} ), (b:USER {id:10}) CREATE (a)-[r:CONNECTS]->(b);\n",
      "MATCH (a:USER {id:5} ), (b:USER {id:0}) CREATE (a)-[r:CONNECTS]->(b);\n",
      "MATCH (a:USER {id:5} ), (b:USER {id:6}) CREATE (a)-[r:CONNECTS]->(b);\n",
      "MATCH (a:USER {id:5} ), (b:USER {id:10}) CREATE (a)-[r:CONNECTS]->(b);\n",
      "MATCH (a:USER {id:5} ), (b:USER {id:16}) CREATE (a)-[r:CONNECTS]->(b);\n",
      "MATCH (a:USER {id:6} ), (b:USER {id:0}) CREATE (a)-[r:CONNECTS]->(b);\n",
      "MATCH (a:USER {id:6} ), (b:USER {id:4}) CREATE (a)-[r:CONNECTS]->(b);\n",
      "MATCH (a:USER {id:6} ), (b:USER {id:5}) CREATE (a)-[r:CONNECTS]->(b);\n",
      "MATCH (a:USER {id:6} ), (b:USER {id:16}) CREATE (a)-[r:CONNECTS]->(b);\n",
      "MATCH (a:USER {id:7} ), (b:USER {id:0}) CREATE (a)-[r:CONNECTS]->(b);\n",
      "MATCH (a:USER {id:7} ), (b:USER {id:1}) CREATE (a)-[r:CONNECTS]->(b);\n",
      "MATCH (a:USER {id:7} ), (b:USER {id:2}) CREATE (a)-[r:CONNECTS]->(b);\n",
      "MATCH (a:USER {id:7} ), (b:USER {id:3}) CREATE (a)-[r:CONNECTS]->(b);\n",
      "MATCH (a:USER {id:8} ), (b:USER {id:0}) CREATE (a)-[r:CONNECTS]->(b);\n",
      "MATCH (a:USER {id:8} ), (b:USER {id:2}) CREATE (a)-[r:CONNECTS]->(b);\n",
      "MATCH (a:USER {id:8} ), (b:USER {id:30}) CREATE (a)-[r:CONNECTS]->(b);\n",
      "MATCH (a:USER {id:8} ), (b:USER {id:32}) CREATE (a)-[r:CONNECTS]->(b);\n",
      "MATCH (a:USER {id:8} ), (b:USER {id:33}) CREATE (a)-[r:CONNECTS]->(b);\n",
      "MATCH (a:USER {id:9} ), (b:USER {id:2}) CREATE (a)-[r:CONNECTS]->(b);\n",
      "MATCH (a:USER {id:9} ), (b:USER {id:33}) CREATE (a)-[r:CONNECTS]->(b);\n",
      "MATCH (a:USER {id:10} ), (b:USER {id:0}) CREATE (a)-[r:CONNECTS]->(b);\n",
      "MATCH (a:USER {id:10} ), (b:USER {id:4}) CREATE (a)-[r:CONNECTS]->(b);\n",
      "MATCH (a:USER {id:10} ), (b:USER {id:5}) CREATE (a)-[r:CONNECTS]->(b);\n",
      "MATCH (a:USER {id:11} ), (b:USER {id:0}) CREATE (a)-[r:CONNECTS]->(b);\n",
      "MATCH (a:USER {id:12} ), (b:USER {id:0}) CREATE (a)-[r:CONNECTS]->(b);\n",
      "MATCH (a:USER {id:12} ), (b:USER {id:3}) CREATE (a)-[r:CONNECTS]->(b);\n",
      "MATCH (a:USER {id:13} ), (b:USER {id:0}) CREATE (a)-[r:CONNECTS]->(b);\n",
      "MATCH (a:USER {id:13} ), (b:USER {id:1}) CREATE (a)-[r:CONNECTS]->(b);\n",
      "MATCH (a:USER {id:13} ), (b:USER {id:2}) CREATE (a)-[r:CONNECTS]->(b);\n",
      "MATCH (a:USER {id:13} ), (b:USER {id:3}) CREATE (a)-[r:CONNECTS]->(b);\n",
      "MATCH (a:USER {id:13} ), (b:USER {id:33}) CREATE (a)-[r:CONNECTS]->(b);\n",
      "MATCH (a:USER {id:14} ), (b:USER {id:32}) CREATE (a)-[r:CONNECTS]->(b);\n",
      "MATCH (a:USER {id:14} ), (b:USER {id:33}) CREATE (a)-[r:CONNECTS]->(b);\n",
      "MATCH (a:USER {id:15} ), (b:USER {id:32}) CREATE (a)-[r:CONNECTS]->(b);\n",
      "MATCH (a:USER {id:15} ), (b:USER {id:33}) CREATE (a)-[r:CONNECTS]->(b);\n",
      "MATCH (a:USER {id:16} ), (b:USER {id:5}) CREATE (a)-[r:CONNECTS]->(b);\n",
      "MATCH (a:USER {id:16} ), (b:USER {id:6}) CREATE (a)-[r:CONNECTS]->(b);\n",
      "MATCH (a:USER {id:17} ), (b:USER {id:0}) CREATE (a)-[r:CONNECTS]->(b);\n",
      "MATCH (a:USER {id:17} ), (b:USER {id:1}) CREATE (a)-[r:CONNECTS]->(b);\n",
      "MATCH (a:USER {id:18} ), (b:USER {id:32}) CREATE (a)-[r:CONNECTS]->(b);\n",
      "MATCH (a:USER {id:18} ), (b:USER {id:33}) CREATE (a)-[r:CONNECTS]->(b);\n",
      "MATCH (a:USER {id:19} ), (b:USER {id:0}) CREATE (a)-[r:CONNECTS]->(b);\n",
      "MATCH (a:USER {id:19} ), (b:USER {id:1}) CREATE (a)-[r:CONNECTS]->(b);\n",
      "MATCH (a:USER {id:19} ), (b:USER {id:33}) CREATE (a)-[r:CONNECTS]->(b);\n",
      "MATCH (a:USER {id:20} ), (b:USER {id:32}) CREATE (a)-[r:CONNECTS]->(b);\n",
      "MATCH (a:USER {id:20} ), (b:USER {id:33}) CREATE (a)-[r:CONNECTS]->(b);\n",
      "MATCH (a:USER {id:21} ), (b:USER {id:0}) CREATE (a)-[r:CONNECTS]->(b);\n",
      "MATCH (a:USER {id:21} ), (b:USER {id:1}) CREATE (a)-[r:CONNECTS]->(b);\n",
      "MATCH (a:USER {id:22} ), (b:USER {id:32}) CREATE (a)-[r:CONNECTS]->(b);\n",
      "MATCH (a:USER {id:22} ), (b:USER {id:33}) CREATE (a)-[r:CONNECTS]->(b);\n",
      "MATCH (a:USER {id:23} ), (b:USER {id:25}) CREATE (a)-[r:CONNECTS]->(b);\n",
      "MATCH (a:USER {id:23} ), (b:USER {id:27}) CREATE (a)-[r:CONNECTS]->(b);\n",
      "MATCH (a:USER {id:23} ), (b:USER {id:29}) CREATE (a)-[r:CONNECTS]->(b);\n",
      "MATCH (a:USER {id:23} ), (b:USER {id:32}) CREATE (a)-[r:CONNECTS]->(b);\n",
      "MATCH (a:USER {id:23} ), (b:USER {id:33}) CREATE (a)-[r:CONNECTS]->(b);\n",
      "MATCH (a:USER {id:24} ), (b:USER {id:25}) CREATE (a)-[r:CONNECTS]->(b);\n",
      "MATCH (a:USER {id:24} ), (b:USER {id:27}) CREATE (a)-[r:CONNECTS]->(b);\n",
      "MATCH (a:USER {id:24} ), (b:USER {id:31}) CREATE (a)-[r:CONNECTS]->(b);\n",
      "MATCH (a:USER {id:25} ), (b:USER {id:23}) CREATE (a)-[r:CONNECTS]->(b);\n",
      "MATCH (a:USER {id:25} ), (b:USER {id:24}) CREATE (a)-[r:CONNECTS]->(b);\n",
      "MATCH (a:USER {id:25} ), (b:USER {id:31}) CREATE (a)-[r:CONNECTS]->(b);\n",
      "MATCH (a:USER {id:26} ), (b:USER {id:29}) CREATE (a)-[r:CONNECTS]->(b);\n",
      "MATCH (a:USER {id:26} ), (b:USER {id:33}) CREATE (a)-[r:CONNECTS]->(b);\n",
      "MATCH (a:USER {id:27} ), (b:USER {id:2}) CREATE (a)-[r:CONNECTS]->(b);\n",
      "MATCH (a:USER {id:27} ), (b:USER {id:23}) CREATE (a)-[r:CONNECTS]->(b);\n",
      "MATCH (a:USER {id:27} ), (b:USER {id:24}) CREATE (a)-[r:CONNECTS]->(b);\n",
      "MATCH (a:USER {id:27} ), (b:USER {id:33}) CREATE (a)-[r:CONNECTS]->(b);\n",
      "MATCH (a:USER {id:28} ), (b:USER {id:2}) CREATE (a)-[r:CONNECTS]->(b);\n",
      "MATCH (a:USER {id:28} ), (b:USER {id:31}) CREATE (a)-[r:CONNECTS]->(b);\n",
      "MATCH (a:USER {id:28} ), (b:USER {id:33}) CREATE (a)-[r:CONNECTS]->(b);\n",
      "MATCH (a:USER {id:29} ), (b:USER {id:23}) CREATE (a)-[r:CONNECTS]->(b);\n",
      "MATCH (a:USER {id:29} ), (b:USER {id:26}) CREATE (a)-[r:CONNECTS]->(b);\n",
      "MATCH (a:USER {id:29} ), (b:USER {id:32}) CREATE (a)-[r:CONNECTS]->(b);\n",
      "MATCH (a:USER {id:29} ), (b:USER {id:33}) CREATE (a)-[r:CONNECTS]->(b);\n",
      "MATCH (a:USER {id:30} ), (b:USER {id:1}) CREATE (a)-[r:CONNECTS]->(b);\n",
      "MATCH (a:USER {id:30} ), (b:USER {id:8}) CREATE (a)-[r:CONNECTS]->(b);\n",
      "MATCH (a:USER {id:30} ), (b:USER {id:32}) CREATE (a)-[r:CONNECTS]->(b);\n",
      "MATCH (a:USER {id:30} ), (b:USER {id:33}) CREATE (a)-[r:CONNECTS]->(b);\n",
      "MATCH (a:USER {id:31} ), (b:USER {id:0}) CREATE (a)-[r:CONNECTS]->(b);\n",
      "MATCH (a:USER {id:31} ), (b:USER {id:24}) CREATE (a)-[r:CONNECTS]->(b);\n",
      "MATCH (a:USER {id:31} ), (b:USER {id:25}) CREATE (a)-[r:CONNECTS]->(b);\n",
      "MATCH (a:USER {id:31} ), (b:USER {id:28}) CREATE (a)-[r:CONNECTS]->(b);\n",
      "MATCH (a:USER {id:31} ), (b:USER {id:32}) CREATE (a)-[r:CONNECTS]->(b);\n",
      "MATCH (a:USER {id:31} ), (b:USER {id:33}) CREATE (a)-[r:CONNECTS]->(b);\n",
      "MATCH (a:USER {id:32} ), (b:USER {id:2}) CREATE (a)-[r:CONNECTS]->(b);\n",
      "MATCH (a:USER {id:32} ), (b:USER {id:8}) CREATE (a)-[r:CONNECTS]->(b);\n",
      "MATCH (a:USER {id:32} ), (b:USER {id:14}) CREATE (a)-[r:CONNECTS]->(b);\n",
      "MATCH (a:USER {id:32} ), (b:USER {id:15}) CREATE (a)-[r:CONNECTS]->(b);\n",
      "MATCH (a:USER {id:32} ), (b:USER {id:18}) CREATE (a)-[r:CONNECTS]->(b);\n",
      "MATCH (a:USER {id:32} ), (b:USER {id:20}) CREATE (a)-[r:CONNECTS]->(b);\n",
      "MATCH (a:USER {id:32} ), (b:USER {id:22}) CREATE (a)-[r:CONNECTS]->(b);\n",
      "MATCH (a:USER {id:32} ), (b:USER {id:23}) CREATE (a)-[r:CONNECTS]->(b);\n",
      "MATCH (a:USER {id:32} ), (b:USER {id:29}) CREATE (a)-[r:CONNECTS]->(b);\n",
      "MATCH (a:USER {id:32} ), (b:USER {id:30}) CREATE (a)-[r:CONNECTS]->(b);\n",
      "MATCH (a:USER {id:32} ), (b:USER {id:31}) CREATE (a)-[r:CONNECTS]->(b);\n",
      "MATCH (a:USER {id:32} ), (b:USER {id:33}) CREATE (a)-[r:CONNECTS]->(b);\n",
      "MATCH (a:USER {id:33} ), (b:USER {id:8}) CREATE (a)-[r:CONNECTS]->(b);\n",
      "MATCH (a:USER {id:33} ), (b:USER {id:9}) CREATE (a)-[r:CONNECTS]->(b);\n",
      "MATCH (a:USER {id:33} ), (b:USER {id:13}) CREATE (a)-[r:CONNECTS]->(b);\n",
      "MATCH (a:USER {id:33} ), (b:USER {id:14}) CREATE (a)-[r:CONNECTS]->(b);\n",
      "MATCH (a:USER {id:33} ), (b:USER {id:15}) CREATE (a)-[r:CONNECTS]->(b);\n",
      "MATCH (a:USER {id:33} ), (b:USER {id:18}) CREATE (a)-[r:CONNECTS]->(b);\n",
      "MATCH (a:USER {id:33} ), (b:USER {id:19}) CREATE (a)-[r:CONNECTS]->(b);\n",
      "MATCH (a:USER {id:33} ), (b:USER {id:20}) CREATE (a)-[r:CONNECTS]->(b);\n",
      "MATCH (a:USER {id:33} ), (b:USER {id:22}) CREATE (a)-[r:CONNECTS]->(b);\n",
      "MATCH (a:USER {id:33} ), (b:USER {id:23}) CREATE (a)-[r:CONNECTS]->(b);\n",
      "MATCH (a:USER {id:33} ), (b:USER {id:26}) CREATE (a)-[r:CONNECTS]->(b);\n",
      "MATCH (a:USER {id:33} ), (b:USER {id:27}) CREATE (a)-[r:CONNECTS]->(b);\n",
      "MATCH (a:USER {id:33} ), (b:USER {id:28}) CREATE (a)-[r:CONNECTS]->(b);\n",
      "MATCH (a:USER {id:33} ), (b:USER {id:29}) CREATE (a)-[r:CONNECTS]->(b);\n",
      "MATCH (a:USER {id:33} ), (b:USER {id:30}) CREATE (a)-[r:CONNECTS]->(b);\n",
      "MATCH (a:USER {id:33} ), (b:USER {id:31}) CREATE (a)-[r:CONNECTS]->(b);\n",
      "MATCH (a:USER {id:33} ), (b:USER {id:32}) CREATE (a)-[r:CONNECTS]->(b);\n"
     ]
    },
    {
     "name": "stderr",
     "output_type": "stream",
     "text": [
      "\n"
     ]
    }
   ],
   "source": [
    "for i in tqdm(range(data.num_edges)):\n",
    "    edge = data.edge_index[:,i].numpy().tolist()\n",
    "    # memgraph.execute(f\"MATCH (a:PAPER {{id:{edge[0]}}} ), (b:PAPER {{id:{edge[1]}}}) CREATE (a)-[r:CITES]->(b);\")\n",
    "    print(f\"MATCH (a:USER {{id:{edge[0]}}} ), (b:USER {{id:{edge[1]}}}) CREATE (a)-[r:CONNECTS]->(b);\")"
   ]
  },
  {
   "cell_type": "markdown",
   "id": "8e50e1e6",
   "metadata": {},
   "source": [
    "## Load 90% of dataset"
   ]
  },
  {
   "cell_type": "code",
   "execution_count": 23,
   "id": "d7ef0ebf",
   "metadata": {},
   "outputs": [],
   "source": [
    "import numpy as np\n",
    "results = memgraph.execute_and_fetch(\n",
    "    \"\"\"\n",
    "    MATCH (n) RETURN n.id AS ids ;\n",
    "    \"\"\"\n",
    ")\n",
    "\n",
    "#for i in list(results):\n",
    "#    print(i)\n",
    "\n",
    "\n",
    "total = sum(1 for _ in results)\n",
    "mask = np.zeros((total))\n",
    "\n",
    "i = 0\n",
    "while i < total * 0.1:\n",
    "    mask[i] = 1\n",
    "    i+=1\n",
    "\n",
    "mask = np.random.permutation(mask)\n",
    "\n"
   ]
  },
  {
   "cell_type": "code",
   "execution_count": 54,
   "id": "f28bf034",
   "metadata": {},
   "outputs": [
    {
     "name": "stdout",
     "output_type": "stream",
     "text": [
      "{'number_of_nodes': 2437}\n"
     ]
    }
   ],
   "source": [
    "for i in range(total):\n",
    "    if mask[i]:\n",
    "        memgraph.execute(\n",
    "            f\"MATCH (n {{id: {i}}}) DETACH DELETE n ;\"\n",
    "        )\n",
    "\n",
    "results = memgraph.execute_and_fetch(\n",
    "    \"\"\"\n",
    "    MATCH (n) RETURN count(n) AS number_of_nodes ;\n",
    "    \"\"\"\n",
    ")\n",
    "print(next(results)) "
   ]
  },
  {
   "cell_type": "markdown",
   "id": "5259b834",
   "metadata": {},
   "source": [
    "## Now load only previously dropped data"
   ]
  },
  {
   "cell_type": "code",
   "execution_count": 27,
   "id": "e4cdd3e5",
   "metadata": {},
   "outputs": [
    {
     "name": "stderr",
     "output_type": "stream",
     "text": [
      "100%|███████████████████| 2708/2708 [00:52<00:00, 51.19it/s]\n"
     ]
    }
   ],
   "source": [
    "memgraph.drop_database()\n",
    "for i in tqdm(range(data.num_nodes)):\n",
    "    memgraph.execute(f\"CREATE( :PAPER {{ id: {i}, features: {data.x[i].numpy().tolist()}, class: {data.y[i].numpy().tolist()} }} );\")"
   ]
  },
  {
   "cell_type": "code",
   "execution_count": 19,
   "id": "a0d2fadb",
   "metadata": {},
   "outputs": [],
   "source": [
    "memgraph.execute(\"CREATE INDEX ON :PAPER(id);\") #don't load edges without this"
   ]
  },
  {
   "cell_type": "code",
   "execution_count": 20,
   "id": "88bd2ff0",
   "metadata": {},
   "outputs": [
    {
     "name": "stderr",
     "output_type": "stream",
     "text": [
      "100%|████████████████| 10556/10556 [00:18<00:00, 583.06it/s]\n"
     ]
    }
   ],
   "source": [
    "for i in tqdm(range(data.num_edges)):\n",
    "    edge = data.edge_index[:,i].numpy().tolist()\n",
    "    memgraph.execute(f\"MATCH (a:PAPER {{id:{edge[0]}}} ), (b:PAPER {{id:{edge[1]}}}) CREATE (a)-[r:CITES]->(b);\")"
   ]
  },
  {
   "cell_type": "code",
   "execution_count": 24,
   "id": "b799a9de",
   "metadata": {},
   "outputs": [
    {
     "name": "stderr",
     "output_type": "stream",
     "text": [
      "100%|█████████████████| 2708/2708 [00:02<00:00, 1332.02it/s]\n"
     ]
    }
   ],
   "source": [
    "for i in tqdm(range(total)):\n",
    "    if not mask[i]:\n",
    "        memgraph.execute(\n",
    "            f\"MATCH (n:PAPER {{id: {i}}}) DETACH DELETE n ;\"\n",
    "        )"
   ]
  },
  {
   "cell_type": "code",
   "execution_count": null,
   "id": "783d2254",
   "metadata": {},
   "outputs": [],
   "source": []
  }
 ],
 "metadata": {
  "kernelspec": {
   "display_name": "Python 3 (ipykernel)",
   "language": "python",
   "name": "python3"
  },
  "language_info": {
   "codemirror_mode": {
    "name": "ipython",
    "version": 3
   },
   "file_extension": ".py",
   "mimetype": "text/x-python",
   "name": "python",
   "nbconvert_exporter": "python",
   "pygments_lexer": "ipython3",
   "version": "3.8.10"
  }
 },
 "nbformat": 4,
 "nbformat_minor": 5
}
